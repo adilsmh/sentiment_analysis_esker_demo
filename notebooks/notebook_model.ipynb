{
 "cells": [
  {
   "cell_type": "markdown",
   "metadata": {},
   "source": [
    "# Libraries"
   ]
  },
  {
   "cell_type": "code",
   "execution_count": 14,
   "metadata": {},
   "outputs": [],
   "source": [
    "import pandas as pd\n",
    "import numpy as np\n",
    "\n",
    "from sklearn.model_selection import train_test_split\n",
    "\n",
    "import tensorflow as tf\n",
    "import tensorflow_datasets as tfds\n",
    "\n",
    "from transformers import DistilBertTokenizerFast\n",
    "from transformers import TFDistilBertForSequenceClassification"
   ]
  },
  {
   "cell_type": "markdown",
   "metadata": {},
   "source": [
    "# Data Fetching"
   ]
  },
  {
   "cell_type": "code",
   "execution_count": 4,
   "metadata": {},
   "outputs": [
    {
     "name": "stderr",
     "output_type": "stream",
     "text": [
      "INFO:absl:Generating dataset amazon_us_reviews (C:\\Users\\adils\\tensorflow_datasets\\amazon_us_reviews\\Mobile_Electronics_v1_00\\0.1.0)\n"
     ]
    },
    {
     "name": "stdout",
     "output_type": "stream",
     "text": [
      "\u001b[1mDownloading and preparing dataset Unknown size (download: Unknown size, generated: Unknown size, total: Unknown size) to C:\\Users\\adils\\tensorflow_datasets\\amazon_us_reviews\\Mobile_Electronics_v1_00\\0.1.0...\u001b[0m\n"
     ]
    },
    {
     "name": "stderr",
     "output_type": "stream",
     "text": [
      "Dl Completed...: 0 url [00:00, ? url/s]\n",
      "\u001b[AINFO:absl:Downloading https://s3.amazonaws.com/amazon-reviews-pds/tsv/amazon_reviews_us_Mobile_Electronics_v1_00.tsv.gz into C:\\Users\\adils\\tensorflow_datasets\\downloads\\s3_amaz-revi-pds_tsv_amaz_revi_us_Mobi_ElecMsyuExqUz0P7xpw1tDot8G2LJN4cnaWfwz8hjbvd16c.gz.tmp.419a033a231749918beaace4ef919743...\n",
      "Dl Completed...:   0%|          | 0/1 [00:00<?, ? url/s]\n",
      "Dl Completed...:   0%|          | 0/1 [00:00<?, ? url/s]\n",
      "Dl Completed...:   0%|          | 0/1 [00:01<?, ? url/s]\n",
      "Dl Completed...:   0%|          | 0/1 [00:02<?, ? url/s]\n",
      "Dl Completed...:   0%|          | 0/1 [00:03<?, ? url/s]\n",
      "Dl Completed...:   0%|          | 0/1 [00:04<?, ? url/s]\n",
      "Dl Completed...:   0%|          | 0/1 [00:04<?, ? url/s]\n",
      "Dl Completed...:   0%|          | 0/1 [00:05<?, ? url/s]\n",
      "Dl Completed...:   0%|          | 0/1 [00:06<?, ? url/s]\n",
      "Dl Completed...:   0%|          | 0/1 [00:06<?, ? url/s]\n",
      "Dl Completed...:   0%|          | 0/1 [00:07<?, ? url/s]\n",
      "Dl Completed...:   0%|          | 0/1 [00:07<?, ? url/s]\n",
      "Dl Completed...:   0%|          | 0/1 [00:07<?, ? url/s]\n",
      "Dl Completed...:   0%|          | 0/1 [00:09<?, ? url/s]\n",
      "Dl Completed...:   0%|          | 0/1 [00:09<?, ? url/s]\n",
      "Dl Completed...:   0%|          | 0/1 [00:10<?, ? url/s]\n",
      "Dl Completed...:   0%|          | 0/1 [00:11<?, ? url/s]\n",
      "Dl Completed...:   0%|          | 0/1 [00:11<?, ? url/s]\n",
      "Dl Completed...:   0%|          | 0/1 [00:12<?, ? url/s]\n",
      "Dl Completed...:   0%|          | 0/1 [00:13<?, ? url/s]\n",
      "Dl Completed...:   0%|          | 0/1 [00:13<?, ? url/s]\n",
      "Dl Completed...:   0%|          | 0/1 [00:14<?, ? url/s]\n",
      "Dl Completed...:   0%|          | 0/1 [00:15<?, ? url/s]\n",
      "Dl Completed...: 100%|██████████| 1/1 [00:15<00:00, 15.86s/ url]\n",
      "Dl Completed...: 100%|██████████| 1/1 [00:15<00:00, 15.86s/ url]\n",
      "\u001b[A\n",
      "Dl Completed...: 100%|██████████| 1/1 [00:17<00:00, 15.86s/ url]\n",
      "Extraction completed...: 100%|██████████| 1/1 [00:17<00:00, 17.11s/ file]\n",
      "Dl Size...: 100%|██████████| 21/21 [00:17<00:00,  1.23 MiB/s]\n",
      "Dl Completed...: 100%|██████████| 1/1 [00:17<00:00, 17.12s/ url]\n",
      "Generating splits...:   0%|          | 0/1 [00:00<?, ? splits/s]INFO:absl:Done writing amazon_us_reviews-train.tfrecord. Number of examples: 104975 (shards: [104975])\n",
      "INFO:absl:Constructing tf.data.Dataset amazon_us_reviews for split train, from C:\\Users\\adils\\tensorflow_datasets\\amazon_us_reviews\\Mobile_Electronics_v1_00\\0.1.0\n"
     ]
    },
    {
     "name": "stdout",
     "output_type": "stream",
     "text": [
      "\u001b[1mDataset amazon_us_reviews downloaded and prepared to C:\\Users\\adils\\tensorflow_datasets\\amazon_us_reviews\\Mobile_Electronics_v1_00\\0.1.0. Subsequent calls will reuse this data.\u001b[0m\n",
      "<_OptionsDataset shapes: {data: {customer_id: (), helpful_votes: (), marketplace: (), product_category: (), product_id: (), product_parent: (), product_title: (), review_body: (), review_date: (), review_headline: (), review_id: (), star_rating: (), total_votes: (), verified_purchase: (), vine: ()}}, types: {data: {customer_id: tf.string, helpful_votes: tf.int32, marketplace: tf.string, product_category: tf.string, product_id: tf.string, product_parent: tf.string, product_title: tf.string, review_body: tf.string, review_date: tf.string, review_headline: tf.string, review_id: tf.string, star_rating: tf.int32, total_votes: tf.int32, verified_purchase: tf.int64, vine: tf.int64}}>\n"
     ]
    }
   ],
   "source": [
    "ds = tfds.load('amazon_us_reviews/Mobile_Electronics_v1_00', split='train', shuffle_files=True)\n",
    "assert isinstance(ds, tf.data.Dataset)\n",
    "print(ds)"
   ]
  },
  {
   "cell_type": "code",
   "execution_count": 8,
   "metadata": {},
   "outputs": [
    {
     "data": {
      "text/html": [
       "<div>\n",
       "<style scoped>\n",
       "    .dataframe tbody tr th:only-of-type {\n",
       "        vertical-align: middle;\n",
       "    }\n",
       "\n",
       "    .dataframe tbody tr th {\n",
       "        vertical-align: top;\n",
       "    }\n",
       "\n",
       "    .dataframe thead th {\n",
       "        text-align: right;\n",
       "    }\n",
       "</style>\n",
       "<table border=\"1\" class=\"dataframe\">\n",
       "  <thead>\n",
       "    <tr style=\"text-align: right;\">\n",
       "      <th></th>\n",
       "      <th>data/customer_id</th>\n",
       "      <th>data/helpful_votes</th>\n",
       "      <th>data/marketplace</th>\n",
       "      <th>data/product_category</th>\n",
       "      <th>data/product_id</th>\n",
       "      <th>data/product_parent</th>\n",
       "      <th>data/product_title</th>\n",
       "      <th>data/review_body</th>\n",
       "      <th>data/review_date</th>\n",
       "      <th>data/review_headline</th>\n",
       "      <th>data/review_id</th>\n",
       "      <th>data/star_rating</th>\n",
       "      <th>data/total_votes</th>\n",
       "      <th>data/verified_purchase</th>\n",
       "      <th>data/vine</th>\n",
       "    </tr>\n",
       "  </thead>\n",
       "  <tbody>\n",
       "    <tr>\n",
       "      <th>0</th>\n",
       "      <td>b'20980074'</td>\n",
       "      <td>0</td>\n",
       "      <td>b'US'</td>\n",
       "      <td>b'Mobile_Electronics'</td>\n",
       "      <td>b'B00D1847NE'</td>\n",
       "      <td>b'274617424'</td>\n",
       "      <td>b'Teenage Mutant Ninja Turtles Boombox CD Play...</td>\n",
       "      <td>b'Does not work'</td>\n",
       "      <td>b'2015-01-09'</td>\n",
       "      <td>b'One Star'</td>\n",
       "      <td>b'R1OVS0D6SEXPW7'</td>\n",
       "      <td>1</td>\n",
       "      <td>0</td>\n",
       "      <td>0</td>\n",
       "      <td>1</td>\n",
       "    </tr>\n",
       "    <tr>\n",
       "      <th>1</th>\n",
       "      <td>b'779273'</td>\n",
       "      <td>0</td>\n",
       "      <td>b'US'</td>\n",
       "      <td>b'Mobile_Electronics'</td>\n",
       "      <td>b'B00KMO6DYG'</td>\n",
       "      <td>b'397452138'</td>\n",
       "      <td>b'4 Gauge Amp Kit Amplifier Install Wiring Com...</td>\n",
       "      <td>b'This is a great wiring kit i used it to set ...</td>\n",
       "      <td>b'2015-08-06'</td>\n",
       "      <td>b'Great kit'</td>\n",
       "      <td>b'R9VSD0ET8FERB'</td>\n",
       "      <td>4</td>\n",
       "      <td>0</td>\n",
       "      <td>0</td>\n",
       "      <td>1</td>\n",
       "    </tr>\n",
       "    <tr>\n",
       "      <th>2</th>\n",
       "      <td>b'15410531'</td>\n",
       "      <td>0</td>\n",
       "      <td>b'US'</td>\n",
       "      <td>b'Mobile_Electronics'</td>\n",
       "      <td>b'B000GWLL0K'</td>\n",
       "      <td>b'948304826'</td>\n",
       "      <td>b'Travel Wall Charger fits Creative Zen Vision...</td>\n",
       "      <td>b'It works great so much faster than USB charg...</td>\n",
       "      <td>b'2007-03-15'</td>\n",
       "      <td>b'A/C Charger for Creative Zen Vision M'</td>\n",
       "      <td>b'R3ISXCZHWLJLBH'</td>\n",
       "      <td>5</td>\n",
       "      <td>0</td>\n",
       "      <td>0</td>\n",
       "      <td>1</td>\n",
       "    </tr>\n",
       "    <tr>\n",
       "      <th>3</th>\n",
       "      <td>b'27389005'</td>\n",
       "      <td>0</td>\n",
       "      <td>b'US'</td>\n",
       "      <td>b'Mobile_Electronics'</td>\n",
       "      <td>b'B008L3JE6Y'</td>\n",
       "      <td>b'466340015'</td>\n",
       "      <td>b'High Grade Robust 360\\xc2\\xb0 Adjustable Car...</td>\n",
       "      <td>b'This product was purchased to hold a monitor...</td>\n",
       "      <td>b'2013-07-30'</td>\n",
       "      <td>b'camera stand'</td>\n",
       "      <td>b'R1TWVUDOFJSQAW'</td>\n",
       "      <td>5</td>\n",
       "      <td>0</td>\n",
       "      <td>0</td>\n",
       "      <td>1</td>\n",
       "    </tr>\n",
       "    <tr>\n",
       "      <th>4</th>\n",
       "      <td>b'2663569'</td>\n",
       "      <td>0</td>\n",
       "      <td>b'US'</td>\n",
       "      <td>b'Mobile_Electronics'</td>\n",
       "      <td>b'B00GHZS4SC'</td>\n",
       "      <td>b'350592810'</td>\n",
       "      <td>b'HDE Multifunctional Bluetooth FM Audio Car K...</td>\n",
       "      <td>b\"it works but it has really bad sound quality...</td>\n",
       "      <td>b'2014-12-31'</td>\n",
       "      <td>b'bad sound quality'</td>\n",
       "      <td>b'R2PEOEUR1LP0GH'</td>\n",
       "      <td>3</td>\n",
       "      <td>0</td>\n",
       "      <td>0</td>\n",
       "      <td>1</td>\n",
       "    </tr>\n",
       "  </tbody>\n",
       "</table>\n",
       "</div>"
      ],
      "text/plain": [
       "  data/customer_id  data/helpful_votes data/marketplace  \\\n",
       "0      b'20980074'                   0            b'US'   \n",
       "1        b'779273'                   0            b'US'   \n",
       "2      b'15410531'                   0            b'US'   \n",
       "3      b'27389005'                   0            b'US'   \n",
       "4       b'2663569'                   0            b'US'   \n",
       "\n",
       "   data/product_category data/product_id data/product_parent  \\\n",
       "0  b'Mobile_Electronics'   b'B00D1847NE'        b'274617424'   \n",
       "1  b'Mobile_Electronics'   b'B00KMO6DYG'        b'397452138'   \n",
       "2  b'Mobile_Electronics'   b'B000GWLL0K'        b'948304826'   \n",
       "3  b'Mobile_Electronics'   b'B008L3JE6Y'        b'466340015'   \n",
       "4  b'Mobile_Electronics'   b'B00GHZS4SC'        b'350592810'   \n",
       "\n",
       "                                  data/product_title  \\\n",
       "0  b'Teenage Mutant Ninja Turtles Boombox CD Play...   \n",
       "1  b'4 Gauge Amp Kit Amplifier Install Wiring Com...   \n",
       "2  b'Travel Wall Charger fits Creative Zen Vision...   \n",
       "3  b'High Grade Robust 360\\xc2\\xb0 Adjustable Car...   \n",
       "4  b'HDE Multifunctional Bluetooth FM Audio Car K...   \n",
       "\n",
       "                                    data/review_body data/review_date  \\\n",
       "0                                   b'Does not work'    b'2015-01-09'   \n",
       "1  b'This is a great wiring kit i used it to set ...    b'2015-08-06'   \n",
       "2  b'It works great so much faster than USB charg...    b'2007-03-15'   \n",
       "3  b'This product was purchased to hold a monitor...    b'2013-07-30'   \n",
       "4  b\"it works but it has really bad sound quality...    b'2014-12-31'   \n",
       "\n",
       "                       data/review_headline     data/review_id  \\\n",
       "0                               b'One Star'  b'R1OVS0D6SEXPW7'   \n",
       "1                              b'Great kit'   b'R9VSD0ET8FERB'   \n",
       "2  b'A/C Charger for Creative Zen Vision M'  b'R3ISXCZHWLJLBH'   \n",
       "3                           b'camera stand'  b'R1TWVUDOFJSQAW'   \n",
       "4                      b'bad sound quality'  b'R2PEOEUR1LP0GH'   \n",
       "\n",
       "   data/star_rating  data/total_votes  data/verified_purchase  data/vine  \n",
       "0                 1                 0                       0          1  \n",
       "1                 4                 0                       0          1  \n",
       "2                 5                 0                       0          1  \n",
       "3                 5                 0                       0          1  \n",
       "4                 3                 0                       0          1  "
      ]
     },
     "execution_count": 8,
     "metadata": {},
     "output_type": "execute_result"
    }
   ],
   "source": [
    "#convert the dataset into a pandas dataframe\n",
    "df = tfds.as_dataframe(ds)\n",
    "df.head()"
   ]
  },
  {
   "cell_type": "markdown",
   "metadata": {},
   "source": [
    "## Data Scrubbing"
   ]
  },
  {
   "cell_type": "code",
   "execution_count": 9,
   "metadata": {},
   "outputs": [],
   "source": [
    "df[\"Sentiment\"] = df[\"data/star_rating\"].apply(lambda score: \"positive\" if score >= 3 else \"negative\")\n",
    "df['Sentiment'] = df['Sentiment'].map({'positive':1, 'negative':0})\n",
    "df['short_review'] =df['data/review_body'].str.decode(\"utf-8\")\n",
    "df = df[[\"short_review\", \"Sentiment\"]]"
   ]
  },
  {
   "cell_type": "code",
   "execution_count": 10,
   "metadata": {},
   "outputs": [
    {
     "data": {
      "text/html": [
       "<div>\n",
       "<style scoped>\n",
       "    .dataframe tbody tr th:only-of-type {\n",
       "        vertical-align: middle;\n",
       "    }\n",
       "\n",
       "    .dataframe tbody tr th {\n",
       "        vertical-align: top;\n",
       "    }\n",
       "\n",
       "    .dataframe thead th {\n",
       "        text-align: right;\n",
       "    }\n",
       "</style>\n",
       "<table border=\"1\" class=\"dataframe\">\n",
       "  <thead>\n",
       "    <tr style=\"text-align: right;\">\n",
       "      <th></th>\n",
       "      <th>short_review</th>\n",
       "      <th>Sentiment</th>\n",
       "    </tr>\n",
       "  </thead>\n",
       "  <tbody>\n",
       "    <tr>\n",
       "      <th>0</th>\n",
       "      <td>Does not work</td>\n",
       "      <td>0</td>\n",
       "    </tr>\n",
       "    <tr>\n",
       "      <th>1</th>\n",
       "      <td>This is a great wiring kit i used it to set up...</td>\n",
       "      <td>1</td>\n",
       "    </tr>\n",
       "    <tr>\n",
       "      <th>2</th>\n",
       "      <td>It works great so much faster than USB charger...</td>\n",
       "      <td>1</td>\n",
       "    </tr>\n",
       "    <tr>\n",
       "      <th>3</th>\n",
       "      <td>This product was purchased to hold a monitor o...</td>\n",
       "      <td>1</td>\n",
       "    </tr>\n",
       "    <tr>\n",
       "      <th>4</th>\n",
       "      <td>it works but it has really bad sound quality. ...</td>\n",
       "      <td>1</td>\n",
       "    </tr>\n",
       "  </tbody>\n",
       "</table>\n",
       "</div>"
      ],
      "text/plain": [
       "                                        short_review  Sentiment\n",
       "0                                      Does not work          0\n",
       "1  This is a great wiring kit i used it to set up...          1\n",
       "2  It works great so much faster than USB charger...          1\n",
       "3  This product was purchased to hold a monitor o...          1\n",
       "4  it works but it has really bad sound quality. ...          1"
      ]
     },
     "execution_count": 10,
     "metadata": {},
     "output_type": "execute_result"
    }
   ],
   "source": [
    "df.head()"
   ]
  },
  {
   "cell_type": "code",
   "execution_count": 12,
   "metadata": {},
   "outputs": [
    {
     "data": {
      "text/plain": [
       "<bound method DataFrame.info of                                             short_review  Sentiment\n",
       "0                                          Does not work          0\n",
       "1      This is a great wiring kit i used it to set up...          1\n",
       "2      It works great so much faster than USB charger...          1\n",
       "3      This product was purchased to hold a monitor o...          1\n",
       "4      it works but it has really bad sound quality. ...          1\n",
       "...                                                  ...        ...\n",
       "49995                                            Awesome          1\n",
       "49996  I got this cover for my daughter's ipod. It is...          1\n",
       "49997  This battery does not fit the T-mobile G2 is i...          0\n",
       "49998  It has good sound but , the charge only last 1...          1\n",
       "49999  What I imaginaed getting from this machine was...          1\n",
       "\n",
       "[50000 rows x 2 columns]>"
      ]
     },
     "execution_count": 12,
     "metadata": {},
     "output_type": "execute_result"
    }
   ],
   "source": [
    "# dropping last n rows using drop\n",
    "df.info"
   ]
  },
  {
   "cell_type": "markdown",
   "metadata": {},
   "source": [
    "# Data preprocessing"
   ]
  },
  {
   "cell_type": "code",
   "execution_count": 13,
   "metadata": {},
   "outputs": [],
   "source": [
    "reviews = df['short_review'].values.tolist()\n",
    "labels = df['Sentiment'].tolist()"
   ]
  },
  {
   "cell_type": "code",
   "execution_count": 15,
   "metadata": {},
   "outputs": [],
   "source": [
    "training_sentences, validation_sentences, training_labels, validation_labels = train_test_split(reviews, labels, test_size=.2)"
   ]
  },
  {
   "cell_type": "code",
   "execution_count": 16,
   "metadata": {},
   "outputs": [
    {
     "name": "stderr",
     "output_type": "stream",
     "text": [
      "Downloading: 100%|██████████| 226k/226k [00:00<00:00, 354kB/s]  \n",
      "Downloading: 100%|██████████| 455k/455k [00:00<00:00, 653kB/s] \n",
      "Downloading: 100%|██████████| 28.0/28.0 [00:00<00:00, 9.24kB/s]\n",
      "Downloading: 100%|██████████| 483/483 [00:00<00:00, 163kB/s]\n"
     ]
    }
   ],
   "source": [
    "# assign tokenizer object to the tokenizer class\n",
    "tokenizer = DistilBertTokenizerFast.from_pretrained('distilbert-base-uncased')"
   ]
  },
  {
   "cell_type": "code",
   "execution_count": 19,
   "metadata": {},
   "outputs": [],
   "source": [
    "train_encodings = tokenizer(training_sentences,\n",
    "                            truncation=True,\n",
    "                            padding=True)\n",
    "val_encodings = tokenizer(validation_sentences,\n",
    "                            truncation=True,\n",
    "                            padding=True)"
   ]
  },
  {
   "cell_type": "code",
   "execution_count": 20,
   "metadata": {},
   "outputs": [],
   "source": [
    "train_dataset = tf.data.Dataset.from_tensor_slices((\n",
    "                            dict(train_encodings),\n",
    "                            training_labels\n",
    "                            ))\n",
    "val_dataset = tf.data.Dataset.from_tensor_slices((\n",
    "                            dict(val_encodings),\n",
    "                            validation_labels\n",
    "                            ))"
   ]
  },
  {
   "cell_type": "markdown",
   "metadata": {},
   "source": [
    "# Model building"
   ]
  },
  {
   "cell_type": "code",
   "execution_count": 21,
   "metadata": {},
   "outputs": [
    {
     "name": "stderr",
     "output_type": "stream",
     "text": [
      "Downloading: 100%|██████████| 347M/347M [05:16<00:00, 1.15MB/s]  \n",
      "Some layers from the model checkpoint at distilbert-base-uncased were not used when initializing TFDistilBertForSequenceClassification: ['vocab_layer_norm', 'vocab_projector', 'activation_13', 'vocab_transform']\n",
      "- This IS expected if you are initializing TFDistilBertForSequenceClassification from the checkpoint of a model trained on another task or with another architecture (e.g. initializing a BertForSequenceClassification model from a BertForPreTraining model).\n",
      "- This IS NOT expected if you are initializing TFDistilBertForSequenceClassification from the checkpoint of a model that you expect to be exactly identical (initializing a BertForSequenceClassification model from a BertForSequenceClassification model).\n",
      "Some layers of TFDistilBertForSequenceClassification were not initialized from the model checkpoint at distilbert-base-uncased and are newly initialized: ['dropout_19', 'classifier', 'pre_classifier']\n",
      "You should probably TRAIN this model on a down-stream task to be able to use it for predictions and inference.\n"
     ]
    }
   ],
   "source": [
    "model = TFDistilBertForSequenceClassification.from_pretrained('distilbert-base-uncased',num_labels=2)"
   ]
  },
  {
   "cell_type": "code",
   "execution_count": null,
   "metadata": {},
   "outputs": [],
   "source": [
    "optimizer = tf.keras.optimizers.Adam(learning_rate=5e-5, epsilon=1e-08)\n",
    "model.compile(optimizer=optimizer, loss=model.compute_loss, metrics=['accuracy'])\n",
    "model.fit(train_dataset.shuffle(100).batch(16),\n",
    "          epochs=2,\n",
    "          batch_size=16,\n",
    "          validation_data=val_dataset.shuffle(100).batch(16))"
   ]
  },
  {
   "cell_type": "code",
   "execution_count": null,
   "metadata": {},
   "outputs": [],
   "source": [
    "model.save_pretrained(\"./sentiment\")\n",
    "loaded_model = TFDistilBertForSequenceClassification.from_pretrained(\"./sentiment\")"
   ]
  },
  {
   "cell_type": "markdown",
   "metadata": {},
   "source": [
    "# Model evaluation"
   ]
  },
  {
   "cell_type": "code",
   "execution_count": null,
   "metadata": {},
   "outputs": [],
   "source": [
    "test_sentence = \"This is a really good product. I love it\"\n",
    "predict_input = tokenizer.encode(test_sentence,\n",
    "                                 truncation=True,\n",
    "                                 padding=True,\n",
    "                                 return_tensors=\"tf\")"
   ]
  },
  {
   "cell_type": "code",
   "execution_count": null,
   "metadata": {},
   "outputs": [],
   "source": [
    "tf_output = loaded_model.predict(predict_input)[0]\n",
    "tf_prediction = tf.nn.softmax(tf_output, axis=1)\n",
    "labels = ['Negative','Positive']\n",
    "label = tf.argmax(tf_prediction, axis=1)\n",
    "label = label.numpy()\n",
    "print(labels[label[0]])"
   ]
  }
 ],
 "metadata": {
  "interpreter": {
   "hash": "6df836803c477647dc408f37c6565c02e77cc0761daf2a7c3b8a6b910cfbb129"
  },
  "kernelspec": {
   "display_name": "Python 3.8.8 64-bit ('base': conda)",
   "language": "python",
   "name": "python3"
  },
  "language_info": {
   "codemirror_mode": {
    "name": "ipython",
    "version": 3
   },
   "file_extension": ".py",
   "mimetype": "text/x-python",
   "name": "python",
   "nbconvert_exporter": "python",
   "pygments_lexer": "ipython3",
   "version": "3.8.8"
  },
  "orig_nbformat": 4
 },
 "nbformat": 4,
 "nbformat_minor": 2
}
